{
 "cells": [
  {
   "cell_type": "code",
   "execution_count": 7,
   "metadata": {
    "collapsed": true
   },
   "outputs": [],
   "source": [
    "from mesa import Agent, Model\n",
    "from mesa.time import RandomActivation\n",
    "import numpy as np\n",
    "from mesa.datacollection import DataCollector\n",
    "import random\n"
   ]
  },
  {
   "cell_type": "code",
   "execution_count": 46,
   "metadata": {
    "collapsed": true
   },
   "outputs": [],
   "source": [
    "class CorruptionAgent(Agent):\n",
    "    \"\"\" An agent with risk aversion $b$, capital endowment $k$\"\"\"\n",
    "    def __init__(self, unique_id, model, parent=None):\n",
    "        super().__init__(unique_id, model)\n",
    "        self.steps = 0 \n",
    "    \n",
    "    def get_r(self):\n",
    "        self.r = random.randint(0,10)\n",
    "        \n",
    "    def get_f(self):\n",
    "        self.f = random.randint(10, 20)\n",
    "        \n",
    "    def step(self):\n",
    "        self.get_r()\n",
    "        self.get_f()"
   ]
  },
  {
   "cell_type": "code",
   "execution_count": 47,
   "metadata": {},
   "outputs": [],
   "source": [
    "class CorruptionModel(Model):\n",
    "    \"\"\"A model with 1000 agents.\"\"\"\n",
    "    def __init__(self, population=10):\n",
    "        \"\"\"Create the model with the following parameters:\n",
    "        Average level of risk aversion = b_bar\n",
    "        Range of risk aversion = b_range\n",
    "        Proportion of income spent on vigilance = gamma\n",
    "        Mean human capital endowment in first generation = k_bar\n",
    "        Equality in access to human capital = theta\n",
    "        Initial value of social corruption = q_start\n",
    "        Population = population\n",
    "        Number of generations = generations\n",
    "        Range of human capital endowment: k_range\"\"\"\n",
    "        #Set parameters\n",
    "        self.num_agents= population\n",
    "        self.schedule = RandomActivation(self) \n",
    "        for i in range(self.num_agents):\n",
    "            a = CorruptionAgent(i, self)\n",
    "            self.schedule.add(a)       \n",
    "            \n",
    "        \n",
    "        \n",
    "    def step(self):\n",
    "        ''' Advance the model by one step.'''\n",
    "        for agent in self.schedule.agents:\n",
    "            #getattr(agent, \"get_r\")() \n",
    "            agent.step()"
   ]
  },
  {
   "cell_type": "code",
   "execution_count": 48,
   "metadata": {},
   "outputs": [],
   "source": [
    "model=CorruptionModel()"
   ]
  },
  {
   "cell_type": "code",
   "execution_count": 49,
   "metadata": {},
   "outputs": [],
   "source": [
    "model.step()"
   ]
  },
  {
   "cell_type": "code",
   "execution_count": 50,
   "metadata": {},
   "outputs": [
    {
     "data": {
      "text/plain": [
       "[11, 19, 17, 18, 10, 15, 13, 17, 16, 20]"
      ]
     },
     "execution_count": 50,
     "metadata": {},
     "output_type": "execute_result"
    }
   ],
   "source": [
    "[a.f for a in model.schedule.agents]"
   ]
  },
  {
   "cell_type": "code",
   "execution_count": null,
   "metadata": {
    "collapsed": true
   },
   "outputs": [],
   "source": []
  }
 ],
 "metadata": {
  "kernelspec": {
   "display_name": "Python (abm)",
   "language": "python",
   "name": "abm"
  },
  "language_info": {
   "codemirror_mode": {
    "name": "ipython",
    "version": 3
   },
   "file_extension": ".py",
   "mimetype": "text/x-python",
   "name": "python",
   "nbconvert_exporter": "python",
   "pygments_lexer": "ipython3",
   "version": "3.6.3"
  }
 },
 "nbformat": 4,
 "nbformat_minor": 2
}
