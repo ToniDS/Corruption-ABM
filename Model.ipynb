{
 "cells": [
  {
   "cell_type": "code",
   "execution_count": 1,
   "metadata": {},
   "outputs": [],
   "source": [
    "%load_ext autoreload\n",
    "%autoreload 2\n",
    "\n",
    "from mesa import Agent, Model\n",
    "from mesa.time import StagedActivation\n",
    "import numpy as np\n",
    "from mesa.datacollection import DataCollector\n",
    "import random\n",
    "#from mesa.batchrunner import BatchRunner"
   ]
  },
  {
   "cell_type": "code",
   "execution_count": 5,
   "metadata": {},
   "outputs": [
    {
     "name": "stdout",
     "output_type": "stream",
     "text": [
      "Overwriting Agent.py\n"
     ]
    }
   ],
   "source": [
    "%%writefile Agent.py\n",
    "from mesa import Agent\n",
    "from mesa.time import StagedActivation\n",
    "from mesa.datacollection import DataCollector\n",
    "from model import *\n",
    "import numpy as np\n",
    "import random\n",
    "\n",
    "class CorruptionAgent(Agent):\n",
    "    \"\"\" Agents in the model.\"\"\"\n",
    "    def __init__(self, unique_id, model, parent=None):\n",
    "        \"\"\"Create an instance of agents with properties:\n",
    "        steps = 0, counter so that they can die\n",
    "        parent = parent, if it was not spawned in the beginning\n",
    "        b = risk-aversion, taken from a uniform distribution, according to the paper\n",
    "        k = capital endowment, initially taken from a uniform distribution,\n",
    "        then inherited from parent's income and taken from distribution.\"\"\"\n",
    "        super().__init__(unique_id, model)\n",
    "        self.steps = 0 \n",
    "        self.id = unique_id\n",
    "        self.parent = parent\n",
    "        self.get_risk_aversion()\n",
    "        self.get_capital_endowment()\n",
    "        #self.p=0\n",
    "      \n",
    "    def get_risk_aversion(self):\n",
    "        self.b = np.random.uniform(self.model.b_bar-self.model.b_range/2,\n",
    "                                   self.model.b_bar+self.model.b_range/2)\n",
    "        \n",
    "    def get_capital_endowment(self):\n",
    "        if self.parent != None:\n",
    "            self.k = (self.model.k_min + ((self.parent.y -self.model.y_min)/\n",
    "                      (self.model.y_max - self.model.y_min)) *\n",
    "                    (self.model.k_max-self.model.k_min) * (\n",
    "                        1-self.model.theta) + \n",
    "                      (self.model.theta*np.random.uniform(\n",
    "                          self.model.k_min, self.model.k_max)))\n",
    "        else: \n",
    "            self.k = np.random.uniform(\n",
    "                self.model.k_bar - self.model.k_range/2, \n",
    "                self.model.k_bar + self.model.k_range/2)\n",
    "\n",
    "          \n",
    "    def spawn_new_agent(self):\n",
    "        \"\"\"Spawn new agent with the spawning agent as parent, add to model.\"\"\"\n",
    "        new_agent=CorruptionAgent(self.unique_id, model, parent = self)\n",
    "        self.model.schedule.add(new_agent)\n",
    "        \n",
    "             \n",
    "    \n",
    "    def choose_dishonesty_level(self):  \n",
    "        \"\"\"Choose a dishonesty level to maximize utility.\"\"\"\n",
    "        self.p = 1/(2*self.b*self.model.gamma**2*(\n",
    "            1-self.model.q)*self.model.S)\n",
    "        \n",
    "    def get_income(self):\n",
    "        \"\"\"Get income y:\n",
    "        One part is fixed, due to non-illicit corrupt work, \n",
    "        the other part due to corrupt work.\"\"\"\n",
    "        self.y = (1-self.p)*(1-self.model.q)*self.model.S*self.k + (\n",
    "        self.p * np.random.normal(self.model.S*self.k, \n",
    "                                  (1-self.model.q)*self.model.gamma * \n",
    "                              self.model.S * self.k))\n",
    "    def corrupt(self):\n",
    "        ''' Choose dishonesty level, and associated income, add to steps.'''\n",
    "        #check if\n",
    "        self.choose_dishonesty_level()\n",
    "        self.get_income()\n",
    "        self.steps += 1\n",
    "        \n",
    "    def procreate(self):\n",
    "        \"\"\" Breed new agent, then die.\"\"\"\n",
    "        self.spawn_new_agent()\n",
    "        if self.steps >= 1:\n",
    "            self.model.schedule.remove(self)\n"
   ]
  },
  {
   "cell_type": "code",
   "execution_count": 3,
   "metadata": {},
   "outputs": [
    {
     "name": "stdout",
     "output_type": "stream",
     "text": [
      "Overwriting model.py\n"
     ]
    }
   ],
   "source": [
    "%%writefile model.py \n",
    "from mesa import Agent, Model\n",
    "from mesa.time import StagedActivation\n",
    "import numpy as np\n",
    "from mesa.datacollection import DataCollector\n",
    "import random\n",
    "from Agent import CorruptionAgent\n",
    "\n",
    "def total_capital(model):\n",
    "    \"\"\" Determine total capital of the model as sum of all the agents' capitals\"\"\"\n",
    "    agent_capitals = [a.k for a in model.schedule.agents]\n",
    "    capital = np.sum(agent_capitals)\n",
    "    return capital\n",
    "\n",
    "def corruption_index(model):\n",
    "    \"\"\"Determine total corruption index of the model. \n",
    "    Weighted average of all the dishonesty levels,\n",
    "    with weights being each agent's capital\"\"\"\n",
    "    capital = total_capital(model)\n",
    "    corruption_index = 1/capital * (\n",
    "        np.sum([a.k*a.p for a in model.schedule.agents]))\n",
    "    return corruption_index\n",
    "    \n",
    "def min_max_income(model):\n",
    "    \"\"\" Determine minimum and maximum income level each generation.\"\"\"\n",
    "    min_income = np.min([a.y for a in model.schedule.agents])\n",
    "    max_income = np.max([a.y for a in model.schedule.agents])\n",
    "    return min_income, max_income\n",
    "\n",
    "def social_capital(model):\n",
    "    \"\"\"Determine social capital each generation.\"\"\"\n",
    "    capital = total_capital(model)\n",
    "    social_capital = model.alpha * capital\n",
    "    return social_capital\n",
    "\n",
    "def national_income(model):\n",
    "    \"\"\"Determine the national income as sum over all the individual incomes.\"\"\"\n",
    "    incomes = [a.y for a in model.schedule.agents]\n",
    "    national_income = np.sum(incomes)\n",
    "    return national_income\n",
    "\n",
    "class CorruptionModel(Model):\n",
    "    \"\"\"A model with population agents.\"\"\"\n",
    "    def __init__(self, b_bar = 3, b_range = 1, \n",
    "                 alpha= 0.5,  gamma = 0.5, theta= 0.1, q_start= 0.1, \n",
    "                 population=1000, k_bar = 0.5, \n",
    "                 k_range = 1):\n",
    "        \"\"\"Create the model with the following parameters:\n",
    "        Average level of risk aversion = b_bar\n",
    "        Range of risk aversion = b_range\n",
    "        Proportion of income spent on vigilance = gamma\n",
    "        Mean human capital endowment in first generation = k_bar\n",
    "        Equality in access to human capital = theta\n",
    "        Initial value of social corruption = q_start\n",
    "        Population = population\n",
    "        Number of generations = generations\n",
    "        Range of human capital endowment: k_range\"\"\"\n",
    "        #Set parameters\n",
    "        self.running = True\n",
    "        self.num_agents= population\n",
    "        self.b_bar = b_bar\n",
    "        self.b_range = b_range\n",
    "        self.alpha = alpha\n",
    "        self.gamma = gamma\n",
    "        self.theta = theta\n",
    "        self.q = q_start\n",
    "        self.k_bar = k_bar\n",
    "        self.k_range = k_range\n",
    "        self.k_min = k_bar -0.5*k_range\n",
    "        self.k_max = k_bar +0.5*k_range\n",
    "        self.S = alpha * (k_bar * population)\n",
    "        self.schedule = StagedActivation(self, stage_list=[\"corrupt\", \n",
    "                                                           \"procreate\"])\n",
    "        self.running = True\n",
    "    \n",
    "    \n",
    "        #Create agents\n",
    "        for i in range(self.num_agents):\n",
    "            a = CorruptionAgent(i, self)\n",
    "            self.schedule.add(a)       \n",
    "              \n",
    "        #Add data to report\n",
    "        self.datacollector = DataCollector(\n",
    "            model_reporters={\"Total capital\": total_capital, \n",
    "                             \"Corruption Index\": corruption_index, \n",
    "                            \"National Income\": national_income},\n",
    "            agent_reporters={\"Dishonesty\": lambda a:a.p})\n",
    "        \n",
    "        \n",
    "        \n",
    "    def step(self):\n",
    "        ''' Advance the model by one step. Do this in two stages:\n",
    "        In first stage, corrupt, then report data and update model parameters.\n",
    "        In second stage, breed and die.'''\n",
    "        for stage in self.schedule.stage_list:\n",
    "            for agent in self.schedule.agents[:]:\n",
    "                getattr(agent, stage)() \n",
    "            if stage == \"corrupt\":\n",
    "                self.q = corruption_index(self)\n",
    "                self.datacollector.collect(self)\n",
    "                self.y_min, self.y_max = min_max_income(self)\n",
    "                #self.k_min, self.k_max = min_max_capital(self)\n",
    "            self.K = total_capital(self)\n",
    "            self.S = social_capital(self)\n",
    "    \n",
    "                \n",
    "    "
   ]
  },
  {
   "cell_type": "code",
   "execution_count": 6,
   "metadata": {},
   "outputs": [
    {
     "ename": "NameError",
     "evalue": "name 'model' is not defined",
     "output_type": "error",
     "traceback": [
      "\u001b[0;31m---------------------------------------------------------------------------\u001b[0m",
      "\u001b[0;31mNameError\u001b[0m                                 Traceback (most recent call last)",
      "\u001b[0;32m<ipython-input-6-1d50030e78af>\u001b[0m in \u001b[0;36m<module>\u001b[0;34m()\u001b[0m\n\u001b[1;32m      5\u001b[0m \u001b[0;34m\u001b[0m\u001b[0m\n\u001b[1;32m      6\u001b[0m \u001b[0;32mfor\u001b[0m \u001b[0mi\u001b[0m \u001b[0;32min\u001b[0m \u001b[0mrange\u001b[0m\u001b[0;34m(\u001b[0m\u001b[0;36m100\u001b[0m\u001b[0;34m)\u001b[0m\u001b[0;34m:\u001b[0m\u001b[0;34m\u001b[0m\u001b[0m\n\u001b[0;32m----> 7\u001b[0;31m     \u001b[0mmodel\u001b[0m\u001b[0;34m.\u001b[0m\u001b[0mstep\u001b[0m\u001b[0;34m(\u001b[0m\u001b[0;34m)\u001b[0m\u001b[0;34m\u001b[0m\u001b[0m\n\u001b[0m",
      "\u001b[0;32m~/corruption/model.py\u001b[0m in \u001b[0;36mstep\u001b[0;34m(self)\u001b[0m\n\u001b[1;32m     94\u001b[0m         \u001b[0;32mfor\u001b[0m \u001b[0mstage\u001b[0m \u001b[0;32min\u001b[0m \u001b[0mself\u001b[0m\u001b[0;34m.\u001b[0m\u001b[0mschedule\u001b[0m\u001b[0;34m.\u001b[0m\u001b[0mstage_list\u001b[0m\u001b[0;34m:\u001b[0m\u001b[0;34m\u001b[0m\u001b[0m\n\u001b[1;32m     95\u001b[0m             \u001b[0;32mfor\u001b[0m \u001b[0magent\u001b[0m \u001b[0;32min\u001b[0m \u001b[0mself\u001b[0m\u001b[0;34m.\u001b[0m\u001b[0mschedule\u001b[0m\u001b[0;34m.\u001b[0m\u001b[0magents\u001b[0m\u001b[0;34m[\u001b[0m\u001b[0;34m:\u001b[0m\u001b[0;34m]\u001b[0m\u001b[0;34m:\u001b[0m\u001b[0;34m\u001b[0m\u001b[0m\n\u001b[0;32m---> 96\u001b[0;31m                 \u001b[0mgetattr\u001b[0m\u001b[0;34m(\u001b[0m\u001b[0magent\u001b[0m\u001b[0;34m,\u001b[0m \u001b[0mstage\u001b[0m\u001b[0;34m)\u001b[0m\u001b[0;34m(\u001b[0m\u001b[0;34m)\u001b[0m\u001b[0;34m\u001b[0m\u001b[0m\n\u001b[0m\u001b[1;32m     97\u001b[0m             \u001b[0;32mif\u001b[0m \u001b[0mstage\u001b[0m \u001b[0;34m==\u001b[0m \u001b[0;34m\"corrupt\"\u001b[0m\u001b[0;34m:\u001b[0m\u001b[0;34m\u001b[0m\u001b[0m\n\u001b[1;32m     98\u001b[0m                 \u001b[0mself\u001b[0m\u001b[0;34m.\u001b[0m\u001b[0mq\u001b[0m \u001b[0;34m=\u001b[0m \u001b[0mcorruption_index\u001b[0m\u001b[0;34m(\u001b[0m\u001b[0mself\u001b[0m\u001b[0;34m)\u001b[0m\u001b[0;34m\u001b[0m\u001b[0m\n",
      "\u001b[0;32m~/corruption/Agent.py\u001b[0m in \u001b[0;36mprocreate\u001b[0;34m(self)\u001b[0m\n\u001b[1;32m     70\u001b[0m     \u001b[0;32mdef\u001b[0m \u001b[0mprocreate\u001b[0m\u001b[0;34m(\u001b[0m\u001b[0mself\u001b[0m\u001b[0;34m)\u001b[0m\u001b[0;34m:\u001b[0m\u001b[0;34m\u001b[0m\u001b[0m\n\u001b[1;32m     71\u001b[0m         \u001b[0;34m\"\"\" Breed new agent, then die.\"\"\"\u001b[0m\u001b[0;34m\u001b[0m\u001b[0m\n\u001b[0;32m---> 72\u001b[0;31m         \u001b[0mself\u001b[0m\u001b[0;34m.\u001b[0m\u001b[0mspawn_new_agent\u001b[0m\u001b[0;34m(\u001b[0m\u001b[0;34m)\u001b[0m\u001b[0;34m\u001b[0m\u001b[0m\n\u001b[0m\u001b[1;32m     73\u001b[0m         \u001b[0;32mif\u001b[0m \u001b[0mself\u001b[0m\u001b[0;34m.\u001b[0m\u001b[0msteps\u001b[0m \u001b[0;34m>=\u001b[0m \u001b[0;36m1\u001b[0m\u001b[0;34m:\u001b[0m\u001b[0;34m\u001b[0m\u001b[0m\n\u001b[1;32m     74\u001b[0m             \u001b[0mself\u001b[0m\u001b[0;34m.\u001b[0m\u001b[0mmodel\u001b[0m\u001b[0;34m.\u001b[0m\u001b[0mschedule\u001b[0m\u001b[0;34m.\u001b[0m\u001b[0mremove\u001b[0m\u001b[0;34m(\u001b[0m\u001b[0mself\u001b[0m\u001b[0;34m)\u001b[0m\u001b[0;34m\u001b[0m\u001b[0m\n",
      "\u001b[0;32m~/corruption/Agent.py\u001b[0m in \u001b[0;36mspawn_new_agent\u001b[0;34m(self)\u001b[0m\n\u001b[1;32m     43\u001b[0m     \u001b[0;32mdef\u001b[0m \u001b[0mspawn_new_agent\u001b[0m\u001b[0;34m(\u001b[0m\u001b[0mself\u001b[0m\u001b[0;34m)\u001b[0m\u001b[0;34m:\u001b[0m\u001b[0;34m\u001b[0m\u001b[0m\n\u001b[1;32m     44\u001b[0m         \u001b[0;34m\"\"\"Spawn new agent with the spawning agent as parent, add to model.\"\"\"\u001b[0m\u001b[0;34m\u001b[0m\u001b[0m\n\u001b[0;32m---> 45\u001b[0;31m         \u001b[0mnew_agent\u001b[0m\u001b[0;34m=\u001b[0m\u001b[0mCorruptionAgent\u001b[0m\u001b[0;34m(\u001b[0m\u001b[0mself\u001b[0m\u001b[0;34m.\u001b[0m\u001b[0munique_id\u001b[0m\u001b[0;34m,\u001b[0m \u001b[0mmodel\u001b[0m\u001b[0;34m,\u001b[0m \u001b[0mparent\u001b[0m \u001b[0;34m=\u001b[0m \u001b[0mself\u001b[0m\u001b[0;34m)\u001b[0m\u001b[0;34m\u001b[0m\u001b[0m\n\u001b[0m\u001b[1;32m     46\u001b[0m         \u001b[0mself\u001b[0m\u001b[0;34m.\u001b[0m\u001b[0mmodel\u001b[0m\u001b[0;34m.\u001b[0m\u001b[0mschedule\u001b[0m\u001b[0;34m.\u001b[0m\u001b[0madd\u001b[0m\u001b[0;34m(\u001b[0m\u001b[0mnew_agent\u001b[0m\u001b[0;34m)\u001b[0m\u001b[0;34m\u001b[0m\u001b[0m\n\u001b[1;32m     47\u001b[0m \u001b[0;34m\u001b[0m\u001b[0m\n",
      "\u001b[0;31mNameError\u001b[0m: name 'model' is not defined"
     ]
    }
   ],
   "source": [
    "from model import *\n",
    "from Agent import CorruptionAgent\n",
    "\n",
    "model = CorruptionModel()\n",
    "\n",
    "for i in range(100):\n",
    "    model.step()\n"
   ]
  },
  {
   "cell_type": "code",
   "execution_count": null,
   "metadata": {
    "collapsed": true
   },
   "outputs": [],
   "source": [
    "model.datacollector.get_model_vars_dataframe()"
   ]
  },
  {
   "cell_type": "code",
   "execution_count": null,
   "metadata": {
    "collapsed": true
   },
   "outputs": [],
   "source": [
    "model.datacollector.get_agent_vars_dataframe()"
   ]
  },
  {
   "cell_type": "markdown",
   "metadata": {
    "collapsed": true
   },
   "source": [
    "params = {\"population\": 1000, \n",
    "                 \"alpha\" : 0.5,  \n",
    "                \"gamma\" : 0.5, \n",
    "                \"theta\":  0.1, \n",
    "                \"q_start\" : 0.1, \n",
    "                 \"k_bar\" : 0.5, \n",
    "                 \"k_range\" : 1,\n",
    "               \"b_bar\": [2, 3, 4],\n",
    "                   \"b_range\" : 1}\n",
    "    #\"b_bar\" : [3, 3.5, 4]}\n",
    "batch_run = BatchRunner(CorruptionModel, \n",
    "                        parameter_values = params,\n",
    "                        \n",
    "                        iterations = 10, \n",
    "                        max_steps = 5, \n",
    "                        model_reporters = {\n",
    "                            \"Corruption Index\": corruption_index, \n",
    "                            \"National Income\": national_income}, \n",
    "                        display_progress =True)"
   ]
  },
  {
   "cell_type": "code",
   "execution_count": null,
   "metadata": {
    "collapsed": true
   },
   "outputs": [],
   "source": []
  }
 ],
 "metadata": {
  "kernelspec": {
   "display_name": "Python (abm)",
   "language": "python",
   "name": "abm"
  },
  "language_info": {
   "codemirror_mode": {
    "name": "ipython",
    "version": 3
   },
   "file_extension": ".py",
   "mimetype": "text/x-python",
   "name": "python",
   "nbconvert_exporter": "python",
   "pygments_lexer": "ipython3",
   "version": "3.6.3"
  }
 },
 "nbformat": 4,
 "nbformat_minor": 2
}
